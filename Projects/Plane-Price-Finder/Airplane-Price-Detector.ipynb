{
 "cells": [
  {
   "cell_type": "code",
   "execution_count": 1,
   "id": "340d1dd0-054e-4ff9-ba5c-4b0f0762e2e1",
   "metadata": {},
   "outputs": [],
   "source": [
    "import pandas as pd"
   ]
  },
  {
   "cell_type": "code",
   "execution_count": 2,
   "id": "3f94c63e-80c2-422f-9a0d-51391a0fd9d4",
   "metadata": {},
   "outputs": [
    {
     "data": {
      "text/html": [
       "<div>\n",
       "<style scoped>\n",
       "    .dataframe tbody tr th:only-of-type {\n",
       "        vertical-align: middle;\n",
       "    }\n",
       "\n",
       "    .dataframe tbody tr th {\n",
       "        vertical-align: top;\n",
       "    }\n",
       "\n",
       "    .dataframe thead th {\n",
       "        text-align: right;\n",
       "    }\n",
       "</style>\n",
       "<table border=\"1\" class=\"dataframe\">\n",
       "  <thead>\n",
       "    <tr style=\"text-align: right;\">\n",
       "      <th></th>\n",
       "      <th>Model</th>\n",
       "      <th>Üretim Yılı</th>\n",
       "      <th>Motor Sayısı</th>\n",
       "      <th>Motor Türü</th>\n",
       "      <th>Kapasite</th>\n",
       "      <th>Menzil (km)</th>\n",
       "      <th>Yakıt Tüketimi (L/saat)</th>\n",
       "      <th>Saatlik Bakım Maliyeti ($)</th>\n",
       "      <th>Yaş</th>\n",
       "      <th>Satış Bölgesi</th>\n",
       "      <th>Fiyat ($)</th>\n",
       "    </tr>\n",
       "  </thead>\n",
       "  <tbody>\n",
       "    <tr>\n",
       "      <th>0</th>\n",
       "      <td>Bombardier CRJ200</td>\n",
       "      <td>1987</td>\n",
       "      <td>2</td>\n",
       "      <td>Turbofan</td>\n",
       "      <td>50</td>\n",
       "      <td>3000</td>\n",
       "      <td>14.36</td>\n",
       "      <td>2185.43</td>\n",
       "      <td>36</td>\n",
       "      <td>Asya</td>\n",
       "      <td>1.285708e+07</td>\n",
       "    </tr>\n",
       "    <tr>\n",
       "      <th>1</th>\n",
       "      <td>Bombardier CRJ200</td>\n",
       "      <td>1997</td>\n",
       "      <td>2</td>\n",
       "      <td>Turbofan</td>\n",
       "      <td>50</td>\n",
       "      <td>3000</td>\n",
       "      <td>4.03</td>\n",
       "      <td>1202.08</td>\n",
       "      <td>26</td>\n",
       "      <td>Avrupa</td>\n",
       "      <td>1.391406e+07</td>\n",
       "    </tr>\n",
       "    <tr>\n",
       "      <th>2</th>\n",
       "      <td>Airbus A320</td>\n",
       "      <td>1988</td>\n",
       "      <td>2</td>\n",
       "      <td>Turbofan</td>\n",
       "      <td>180</td>\n",
       "      <td>6300</td>\n",
       "      <td>13.26</td>\n",
       "      <td>761.38</td>\n",
       "      <td>35</td>\n",
       "      <td>Avustralya</td>\n",
       "      <td>9.073570e+07</td>\n",
       "    </tr>\n",
       "    <tr>\n",
       "      <th>3</th>\n",
       "      <td>Boeing 737</td>\n",
       "      <td>2023</td>\n",
       "      <td>2</td>\n",
       "      <td>Turbofan</td>\n",
       "      <td>162</td>\n",
       "      <td>5700</td>\n",
       "      <td>14.61</td>\n",
       "      <td>592.63</td>\n",
       "      <td>0</td>\n",
       "      <td>Avustralya</td>\n",
       "      <td>1.366597e+08</td>\n",
       "    </tr>\n",
       "    <tr>\n",
       "      <th>4</th>\n",
       "      <td>Cessna 172</td>\n",
       "      <td>1985</td>\n",
       "      <td>1</td>\n",
       "      <td>Piston</td>\n",
       "      <td>4</td>\n",
       "      <td>1285</td>\n",
       "      <td>18.49</td>\n",
       "      <td>4245.99</td>\n",
       "      <td>38</td>\n",
       "      <td>Güney Amerika</td>\n",
       "      <td>2.037981e+05</td>\n",
       "    </tr>\n",
       "  </tbody>\n",
       "</table>\n",
       "</div>"
      ],
      "text/plain": [
       "               Model  Üretim Yılı  Motor Sayısı Motor Türü  Kapasite  \\\n",
       "0  Bombardier CRJ200         1987             2   Turbofan        50   \n",
       "1  Bombardier CRJ200         1997             2   Turbofan        50   \n",
       "2        Airbus A320         1988             2   Turbofan       180   \n",
       "3         Boeing 737         2023             2   Turbofan       162   \n",
       "4         Cessna 172         1985             1     Piston         4   \n",
       "\n",
       "   Menzil (km)  Yakıt Tüketimi (L/saat)  Saatlik Bakım Maliyeti ($)  Yaş  \\\n",
       "0         3000                    14.36                     2185.43   36   \n",
       "1         3000                     4.03                     1202.08   26   \n",
       "2         6300                    13.26                      761.38   35   \n",
       "3         5700                    14.61                      592.63    0   \n",
       "4         1285                    18.49                     4245.99   38   \n",
       "\n",
       "   Satış Bölgesi     Fiyat ($)  \n",
       "0           Asya  1.285708e+07  \n",
       "1         Avrupa  1.391406e+07  \n",
       "2     Avustralya  9.073570e+07  \n",
       "3     Avustralya  1.366597e+08  \n",
       "4  Güney Amerika  2.037981e+05  "
      ]
     },
     "execution_count": 2,
     "metadata": {},
     "output_type": "execute_result"
    }
   ],
   "source": [
    "df = pd.read_csv(\"airplane_price_dataset.csv\")\n",
    "df.head()"
   ]
  },
  {
   "cell_type": "code",
   "execution_count": 6,
   "id": "5467d1e2-1630-498f-b6c4-245355cd3596",
   "metadata": {},
   "outputs": [
    {
     "name": "stdout",
     "output_type": "stream",
     "text": [
      "<class 'pandas.core.frame.DataFrame'>\n",
      "RangeIndex: 12377 entries, 0 to 12376\n",
      "Data columns (total 11 columns):\n",
      " #   Column                      Non-Null Count  Dtype  \n",
      "---  ------                      --------------  -----  \n",
      " 0   Model                       12377 non-null  object \n",
      " 1   Üretim Yılı                 12377 non-null  int64  \n",
      " 2   Motor Sayısı                12377 non-null  int64  \n",
      " 3   Motor Türü                  12377 non-null  object \n",
      " 4   Kapasite                    12377 non-null  int64  \n",
      " 5   Menzil (km)                 12377 non-null  int64  \n",
      " 6   Yakıt Tüketimi (L/saat)     12377 non-null  float64\n",
      " 7   Saatlik Bakım Maliyeti ($)  12377 non-null  float64\n",
      " 8   Yaş                         12377 non-null  int64  \n",
      " 9   Satış Bölgesi               12377 non-null  object \n",
      " 10  Fiyat ($)                   12377 non-null  float64\n",
      "dtypes: float64(3), int64(5), object(3)\n",
      "memory usage: 1.0+ MB\n"
     ]
    }
   ],
   "source": [
    "df.info()"
   ]
  },
  {
   "cell_type": "code",
   "execution_count": null,
   "id": "eac92152-fbff-4bed-8112-743e0b7dd9fd",
   "metadata": {},
   "outputs": [],
   "source": [
    "from sklearn.manifold import TSNE\n",
    "\n",
    "RANDOM_STATE = 2025\n",
    "SOURCE = [\n",
    "    'Üretim Yılı', 'Motor Sayısı',  'Kapasite',\n",
    "       'Menzil (km)', 'Yakıt Tüketimi (L/saat)', 'Saatlik Bakım Maliyeti ($)',\n",
    "       'Yaş',]\n",
    "TARGET = 'Fiyat ($)'\n",
    "\n",
    "reducer = TSNE(random_state = RANDOM_STATE)\n",
    "reduced_df = pd.DataFrame(columns=['x', 'y'], data=reducer.fit_transform(X=df[SOURCE]))\n",
    "reduced_df[TARGET] = df[TARGET].tolist()"
   ]
  },
  {
   "cell_type": "code",
   "execution_count": 16,
   "id": "6e818468-9a40-4692-9a11-706094e7a3c2",
   "metadata": {},
   "outputs": [
    {
     "data": {
      "text/html": [
       "        <script type=\"text/javascript\">\n",
       "        window.PlotlyConfig = {MathJaxConfig: 'local'};\n",
       "        if (window.MathJax && window.MathJax.Hub && window.MathJax.Hub.Config) {window.MathJax.Hub.Config({SVG: {font: \"STIX-Web\"}});}\n",
       "        </script>\n",
       "        <script type=\"module\">import \"https://cdn.plot.ly/plotly-3.0.0.min\"</script>\n",
       "        "
      ]
     },
     "metadata": {},
     "output_type": "display_data"
    },
    {
     "data": {
      "text/html": [
       "<iframe\n",
       "    scrolling=\"no\"\n",
       "    width=\"100%\"\n",
       "    height=\"545px\"\n",
       "    src=\"iframe_figures/figure_16.html\"\n",
       "    frameborder=\"0\"\n",
       "    allowfullscreen\n",
       "></iframe>\n"
      ]
     },
     "metadata": {},
     "output_type": "display_data"
    }
   ],
   "source": [
    "from plotly import express\n",
    "from plotly.offline import init_notebook_mode\n",
    "\n",
    "init_notebook_mode(connected=True)\n",
    "express.scatter(data_frame=reduced_df, x='x', y='y', color=TARGET).show(renderer='iframe_connected')"
   ]
  },
  {
   "cell_type": "code",
   "execution_count": 23,
   "id": "a4bc585c-e3f2-4418-b6e3-9a793381570c",
   "metadata": {},
   "outputs": [],
   "source": [
    "from sklearn.model_selection import train_test_split\n",
    "from sklearn.tree import DecisionTreeRegressor\n",
    "\n",
    "X_train, X_test, y_train, y_test = train_test_split(df[SOURCE], df[TARGET], test_size=0.2, random_state=RANDOM_STATE, shuffle=True, ) \n",
    "tree = DecisionTreeRegressor(random_state=RANDOM_STATE)\n",
    "tree.fit(X=X_train, y=y_train)\n",
    "y_pred = tree.predict(X=X_test)"
   ]
  },
  {
   "cell_type": "code",
   "execution_count": 25,
   "id": "2346281c-aa15-43e0-aa01-782d88af5ec9",
   "metadata": {},
   "outputs": [
    {
     "data": {
      "text/html": [
       "<iframe\n",
       "    scrolling=\"no\"\n",
       "    width=\"100%\"\n",
       "    height=\"545px\"\n",
       "    src=\"iframe_figures/figure_25.html\"\n",
       "    frameborder=\"0\"\n",
       "    allowfullscreen\n",
       "></iframe>\n"
      ]
     },
     "metadata": {},
     "output_type": "display_data"
    }
   ],
   "source": [
    "import numpy as np\n",
    "\n",
    "result_df = pd.DataFrame(data={'expected': y_test, 'actual': y_pred})\n",
    "result_df['error'] = np.abs(result_df['expected'] - result_df['actual'])/result_df['expected']\n",
    "express.scatter(data_frame=result_df, x='expected', y='actual', color='error').show(renderer='iframe_connected')"
   ]
  },
  {
   "cell_type": "code",
   "execution_count": 27,
   "id": "1a6c27cc-3bb2-42ca-a851-70786c0847e7",
   "metadata": {},
   "outputs": [
    {
     "data": {
      "text/html": [
       "<iframe\n",
       "    scrolling=\"no\"\n",
       "    width=\"100%\"\n",
       "    height=\"545px\"\n",
       "    src=\"iframe_figures/figure_27.html\"\n",
       "    frameborder=\"0\"\n",
       "    allowfullscreen\n",
       "></iframe>\n"
      ]
     },
     "metadata": {},
     "output_type": "display_data"
    }
   ],
   "source": [
    "express.scatter(data_frame=result_df, x='expected', y='actual', color='error', log_x=True, log_y=True).show(renderer='iframe_connected')"
   ]
  },
  {
   "cell_type": "code",
   "execution_count": 31,
   "id": "b70e9333-99f9-4f16-8952-a34adfe210c2",
   "metadata": {},
   "outputs": [
    {
     "data": {
      "text/html": [
       "<iframe\n",
       "    scrolling=\"no\"\n",
       "    width=\"100%\"\n",
       "    height=\"545px\"\n",
       "    src=\"iframe_figures/figure_31.html\"\n",
       "    frameborder=\"0\"\n",
       "    allowfullscreen\n",
       "></iframe>\n"
      ]
     },
     "metadata": {},
     "output_type": "display_data"
    }
   ],
   "source": [
    "express.histogram(data_frame=df, x=TARGET).show(renderer='iframe_connected')"
   ]
  },
  {
   "cell_type": "code",
   "execution_count": 33,
   "id": "b7d12792-51eb-4d89-bf57-38db0205caaf",
   "metadata": {},
   "outputs": [
    {
     "name": "stdout",
     "output_type": "stream",
     "text": [
      "MSE: 1706154546202183\n",
      "RMSE: 1706154546202183\n",
      "MAE: 22045595\n",
      "R-squared: 0.9678\n"
     ]
    }
   ],
   "source": [
    "from sklearn.metrics import mean_squared_error, mean_absolute_error, r2_score\n",
    "from sklearn.model_selection import train_test_split\n",
    "from sklearn.linear_model import LinearRegression\n",
    "\n",
    "mse = mean_squared_error(y_test, y_pred)\n",
    "rmse = mean_squared_error(y_test, y_pred, squared=True)\n",
    "mae = mean_absolute_error(y_test, y_pred)\n",
    "r2 = r2_score(y_test, y_pred)\n",
    "\n",
    "print('MSE:', int(mse))\n",
    "print('RMSE:', int(rmse))\n",
    "print('MAE:', int(mae))\n",
    "print('R-squared: {:5.4f}'.format(r2))"
   ]
  }
 ],
 "metadata": {
  "kernelspec": {
   "display_name": "Python 3 (ipykernel)",
   "language": "python",
   "name": "python3"
  },
  "language_info": {
   "codemirror_mode": {
    "name": "ipython",
    "version": 3
   },
   "file_extension": ".py",
   "mimetype": "text/x-python",
   "name": "python",
   "nbconvert_exporter": "python",
   "pygments_lexer": "ipython3",
   "version": "3.8.10"
  }
 },
 "nbformat": 4,
 "nbformat_minor": 5
}
