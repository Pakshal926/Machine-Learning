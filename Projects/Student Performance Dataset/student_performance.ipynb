{
 "cells": [
  {
   "cell_type": "code",
   "execution_count": 1,
   "id": "00841e22-6810-462d-bb4e-0ce82db410d1",
   "metadata": {},
   "outputs": [],
   "source": [
    "import numpy as np\n",
    "import pandas as pd\n",
    "import matplotlib.pyplot as plt\n",
    "import seaborn as sns\n",
    "from sklearn.preprocessing import LabelEncoder\n",
    "import warnings\n",
    "\n",
    "warnings.filterwarnings(\"ignore\")"
   ]
  },
  {
   "cell_type": "code",
   "execution_count": 2,
   "id": "989d0d4d-ba79-4263-aa6e-4ab820729b28",
   "metadata": {},
   "outputs": [
    {
     "name": "stdout",
     "output_type": "stream",
     "text": [
      "First 5 rows:\n",
      "   student_id  gender  study_time extracurricular  math_score  science_score  \\\n",
      "0           1    Male           5             Yes          80             78   \n",
      "1           2  Female          10              No          75             80   \n",
      "2           3    Male          15             Yes          90             85   \n",
      "3           4  Female           8              No          70             65   \n",
      "4           5    Male          12             Yes          65             60   \n",
      "\n",
      "   english_score  overall_score  \n",
      "0             85             81  \n",
      "1             82             79  \n",
      "2             88             88  \n",
      "3             70             68  \n",
      "4             75             67  \n",
      "\n",
      " Transposed first 5 rows:\n",
      "                    0       1     2       3     4\n",
      "student_id          1       2     3       4     5\n",
      "gender           Male  Female  Male  Female  Male\n",
      "study_time          5      10    15       8    12\n",
      "extracurricular   Yes      No   Yes      No   Yes\n",
      "math_score         80      75    90      70    65\n",
      "science_score      78      80    85      65    60\n",
      "english_score      85      82    88      70    75\n",
      "overall_score      81      79    88      68    67\n",
      "\n",
      " Shape of the dataset:\n",
      "(100, 8)\n",
      "\n",
      " Summary statistics:\n",
      "       student_id  study_time  math_score  science_score  english_score  \\\n",
      "count  100.000000   100.00000  100.000000     100.000000     100.000000   \n",
      "mean    50.500000     9.60000   79.200000      77.000000      82.300000   \n",
      "std     29.011492     3.05505    8.998316       9.806203       7.064637   \n",
      "min      1.000000     5.00000   65.000000      60.000000      70.000000   \n",
      "25%     25.750000     7.00000   70.000000      68.000000      75.000000   \n",
      "50%     50.500000     9.50000   79.000000      79.000000      83.500000   \n",
      "75%     75.250000    12.00000   88.000000      85.000000      88.000000   \n",
      "max    100.000000    15.00000   92.000000      90.000000      92.000000   \n",
      "\n",
      "       overall_score  \n",
      "count     100.000000  \n",
      "mean       79.500000  \n",
      "std         8.399735  \n",
      "min        67.000000  \n",
      "25%        70.000000  \n",
      "50%        80.000000  \n",
      "75%        88.000000  \n",
      "max        90.000000  \n",
      "\n",
      " Dataset info:\n",
      "<class 'pandas.core.frame.DataFrame'>\n",
      "RangeIndex: 100 entries, 0 to 99\n",
      "Data columns (total 8 columns):\n",
      " #   Column           Non-Null Count  Dtype \n",
      "---  ------           --------------  ----- \n",
      " 0   student_id       100 non-null    int64 \n",
      " 1   gender           100 non-null    object\n",
      " 2   study_time       100 non-null    int64 \n",
      " 3   extracurricular  100 non-null    object\n",
      " 4   math_score       100 non-null    int64 \n",
      " 5   science_score    100 non-null    int64 \n",
      " 6   english_score    100 non-null    int64 \n",
      " 7   overall_score    100 non-null    int64 \n",
      "dtypes: int64(6), object(2)\n",
      "memory usage: 6.4+ KB\n"
     ]
    }
   ],
   "source": [
    "data = pd.read_csv(\"Student Performance Dataset.csv\")\n",
    "\n",
    "print(\"First 5 rows:\")\n",
    "print(data.head())\n",
    "print(\"\\n Transposed first 5 rows:\")\n",
    "print(data.head().T)\n",
    "print(\"\\n Shape of the dataset:\")\n",
    "print(data.shape)\n",
    "print(\"\\n Summary statistics:\")\n",
    "print(data.describe())\n",
    "print(\"\\n Dataset info:\")\n",
    "data.info()"
   ]
  }
 ],
 "metadata": {
  "kernelspec": {
   "display_name": "Python 3 (ipykernel)",
   "language": "python",
   "name": "python3"
  },
  "language_info": {
   "codemirror_mode": {
    "name": "ipython",
    "version": 3
   },
   "file_extension": ".py",
   "mimetype": "text/x-python",
   "name": "python",
   "nbconvert_exporter": "python",
   "pygments_lexer": "ipython3",
   "version": "3.8.10"
  }
 },
 "nbformat": 4,
 "nbformat_minor": 5
}
